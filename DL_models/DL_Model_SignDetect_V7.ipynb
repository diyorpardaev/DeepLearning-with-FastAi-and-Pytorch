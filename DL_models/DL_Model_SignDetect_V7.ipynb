{
  "nbformat": 4,
  "nbformat_minor": 0,
  "metadata": {
    "colab": {
      "provenance": [],
      "gpuType": "T4"
    },
    "kernelspec": {
      "name": "python3",
      "display_name": "Python 3"
    },
    "language_info": {
      "name": "python"
    },
    "accelerator": "GPU"
  },
  "cells": [
    {
      "cell_type": "markdown",
      "source": [
        "# Dastlab Ultralyticsni o'rnatib olamiz:"
      ],
      "metadata": {
        "id": "kOTKaWw_2vxI"
      }
    },
    {
      "cell_type": "code",
      "execution_count": null,
      "metadata": {
        "id": "cNg9icwv11qp"
      },
      "outputs": [],
      "source": [
        "!pip install ultralytics"
      ]
    },
    {
      "cell_type": "markdown",
      "source": [
        "# So'ngra Runtime->Change Runtime type tugmasini bosib protsessorni CPU dan T4 GPUga o'zgartiramiz\n",
        "\n"
      ],
      "metadata": {
        "id": "tcc9Sf1-2nVF"
      }
    },
    {
      "cell_type": "code",
      "source": [
        "import ultralytics\n",
        "ultralytics.checks()"
      ],
      "metadata": {
        "id": "-UPWm3z52fYm"
      },
      "execution_count": null,
      "outputs": []
    },
    {
      "cell_type": "markdown",
      "source": [
        "Tekshirib olgandan so'ng,roboflowni o'rnatamiz"
      ],
      "metadata": {
        "id": "3cbvzA0y3QS9"
      }
    },
    {
      "cell_type": "code",
      "source": [
        "!pip install roboflow"
      ],
      "metadata": {
        "id": "HrtLDV4m2fWH"
      },
      "execution_count": null,
      "outputs": []
    },
    {
      "cell_type": "markdown",
      "source": [
        "Datasetni chaqiramiz"
      ],
      "metadata": {
        "id": "bJI8VDSg3X3E"
      }
    },
    {
      "cell_type": "code",
      "source": [
        "from roboflow import Roboflow\n",
        "rf = Roboflow(api_key=\"3YobMsGvmzLMMTwY4RAf\")\n",
        "project = rf.workspace(\"joongbu-university\").project(\"diyorproject\")\n",
        "dataset = project.version(7).download(\"yolov8\")"
      ],
      "metadata": {
        "id": "yB54P-Q-2fTL"
      },
      "execution_count": null,
      "outputs": []
    },
    {
      "cell_type": "markdown",
      "source": [
        "Data,epochlar soni va rasm hajmini kiritgandan so'ng trainni boshlaymiz(biroz vaqt oladi)😩"
      ],
      "metadata": {
        "id": "PtNGdSF23een"
      }
    },
    {
      "cell_type": "code",
      "source": [
        "!yolo train model=yolov8n.pt data=/content/diyorproject-7/data.yaml epochs=100 imgsz=640"
      ],
      "metadata": {
        "id": "slyCyCGC2qHX"
      },
      "execution_count": null,
      "outputs": []
    }
  ]
}